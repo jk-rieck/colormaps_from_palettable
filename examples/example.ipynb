{
 "cells": [
  {
   "cell_type": "code",
   "execution_count": 1,
   "metadata": {},
   "outputs": [],
   "source": [
    "import ipywidgets as widgets\n",
    "from ipywidgets import interact, interact_manual\n",
    "import numpy as np\n",
    "from matplotlib import pyplot as plt"
   ]
  },
  {
   "cell_type": "code",
   "execution_count": 2,
   "metadata": {},
   "outputs": [
    {
     "name": "stdout",
     "output_type": "stream",
     "text": [
      "Collecting git+https://github.com/jk-rieck/colormaps_from_palettable.git\n",
      "  Cloning https://github.com/jk-rieck/colormaps_from_palettable.git to /tmp/pip-req-build-ptlqefue\n",
      "  Running command git clone -q https://github.com/jk-rieck/colormaps_from_palettable.git /tmp/pip-req-build-ptlqefue\n",
      "  Resolved https://github.com/jk-rieck/colormaps_from_palettable.git to commit 9bf7577d940263b42a94ef0b5da6b8420eefc859\n",
      "Requirement already satisfied: setuptools in /home/jan/miniconda3/envs/py39/lib/python3.9/site-packages (from colormaps-from-palettable==0.1) (58.0.4)\n",
      "Collecting palettable\n",
      "  Downloading palettable-3.3.0-py2.py3-none-any.whl (111 kB)\n",
      "\u001b[K     |████████████████████████████████| 111 kB 20.2 MB/s eta 0:00:01\n",
      "\u001b[?25hBuilding wheels for collected packages: colormaps-from-palettable\n",
      "  Building wheel for colormaps-from-palettable (setup.py) ... \u001b[?25ldone\n",
      "\u001b[?25h  Created wheel for colormaps-from-palettable: filename=colormaps_from_palettable-0.1-py3-none-any.whl size=3080 sha256=70d153c02f90dfc80d8622f6b082ef827cde76f7e39a203335aad1225e8b8669\n",
      "  Stored in directory: /tmp/pip-ephem-wheel-cache-637qsajv/wheels/ef/d8/82/806e25ae41fc51966285826aa2959a8c7e1dd5971f07b3e5ac\n",
      "Successfully built colormaps-from-palettable\n",
      "Installing collected packages: palettable, colormaps-from-palettable\n",
      "Successfully installed colormaps-from-palettable-0.1 palettable-3.3.0\n"
     ]
    }
   ],
   "source": [
    "!pip install git+https://github.com/jk-rieck/colormaps_from_palettable.git\n",
    "import colormaps_from_palettable as cfp"
   ]
  },
  {
   "cell_type": "markdown",
   "metadata": {},
   "source": [
    "### First, need to get the dictionary containing the colormaps"
   ]
  },
  {
   "cell_type": "code",
   "execution_count": 3,
   "metadata": {},
   "outputs": [],
   "source": [
    "t = cfp.extract()"
   ]
  },
  {
   "cell_type": "markdown",
   "metadata": {},
   "source": [
    "### Now, we contruct some data for the plotting\n",
    "Here you could also just load your own data..."
   ]
  },
  {
   "cell_type": "code",
   "execution_count": 4,
   "metadata": {},
   "outputs": [],
   "source": [
    "some_sin = np.sin(np.linspace(0, np.pi, 20))\n",
    "some_cos = np.cos(np.linspace(0, np.pi, 20))\n",
    "some_data = some_sin[:, None] * some_cos[None, :]"
   ]
  },
  {
   "cell_type": "markdown",
   "metadata": {},
   "source": [
    "## Display the colormaps\n",
    "You can choose the different packages and colormaps by choosing other entries in the dropdown menues for `pack` and `cmap`, respectively."
   ]
  },
  {
   "cell_type": "code",
   "execution_count": 5,
   "metadata": {},
   "outputs": [
    {
     "data": {
      "application/vnd.jupyter.widget-view+json": {
       "model_id": "1a09a9f69aca4094bb291109060073ae",
       "version_major": 2,
       "version_minor": 0
      },
      "text/plain": [
       "interactive(children=(Dropdown(description='pack', options={'cmocean': {'Algae_r': <matplotlib.colors.LinearSe…"
      ]
     },
     "metadata": {},
     "output_type": "display_data"
    }
   ],
   "source": [
    "pack_widget = widgets.Dropdown(options = {l: w for (l, w) in t.items()})\n",
    "cmap_widget = widgets.Dropdown()\n",
    "\n",
    "def update(*args):\n",
    "    cmap_widget.options = {k: v for (k, v) in pack_widget.value.items()}\n",
    "pack_widget.observe(update)\n",
    "\n",
    "def contour_plot(pack,\n",
    "                 cmap):\n",
    "    plt.pcolormesh(some_data, cmap=cmap)\n",
    "    plt.colorbar()\n",
    "\n",
    "interact(contour_plot, pack=pack_widget, cmap=cmap_widget);"
   ]
  },
  {
   "cell_type": "code",
   "execution_count": null,
   "metadata": {},
   "outputs": [],
   "source": []
  }
 ],
 "metadata": {
  "kernelspec": {
   "display_name": "Python [conda env:py39]",
   "language": "python",
   "name": "conda-env-py39-py"
  },
  "language_info": {
   "codemirror_mode": {
    "name": "ipython",
    "version": 3
   },
   "file_extension": ".py",
   "mimetype": "text/x-python",
   "name": "python",
   "nbconvert_exporter": "python",
   "pygments_lexer": "ipython3",
   "version": "3.9.7"
  }
 },
 "nbformat": 4,
 "nbformat_minor": 4
}
