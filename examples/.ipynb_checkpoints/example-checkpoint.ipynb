{
 "cells": [
  {
   "cell_type": "code",
   "execution_count": 1,
   "metadata": {},
   "outputs": [],
   "source": [
    "import ipywidgets as widgets\n",
    "from ipywidgets import interact, interact_manual\n",
    "import numpy as np\n",
    "from matplotlib import pyplot as plt\n",
    "import colormaps_from_palettable as cfp"
   ]
  },
  {
   "cell_type": "markdown",
   "metadata": {},
   "source": [
    "### First, need to get the dictionary containing the colormaps"
   ]
  },
  {
   "cell_type": "code",
   "execution_count": 32,
   "metadata": {},
   "outputs": [],
   "source": [
    "t = cfp.extract()"
   ]
  },
  {
   "cell_type": "markdown",
   "metadata": {},
   "source": [
    "### Now, we contruct some data for the plotting\n",
    "Here you could also just load your own data..."
   ]
  },
  {
   "cell_type": "code",
   "execution_count": 8,
   "metadata": {},
   "outputs": [],
   "source": [
    "some_sin = np.sin(np.linspace(0, np.pi, 20))\n",
    "some_cos = np.cos(np.linspace(0, np.pi, 20))\n",
    "some_data = some_sin[:, None] * some_cos[None, :]"
   ]
  },
  {
   "cell_type": "markdown",
   "metadata": {},
   "source": [
    "## Display the colormaps\n",
    "You can choose the different packages and colormaps by choosing other entries in the dropdown menues for `pack` and `cmap`, respectively."
   ]
  },
  {
   "cell_type": "code",
   "execution_count": 47,
   "metadata": {},
   "outputs": [
    {
     "data": {
      "application/vnd.jupyter.widget-view+json": {
       "model_id": "05fbcb973fec4ef68c7505a2276ae04f",
       "version_major": 2,
       "version_minor": 0
      },
      "text/plain": [
       "interactive(children=(Dropdown(description='pack', options={'cmocean': {'Algae_r': <matplotlib.colors.LinearSe…"
      ]
     },
     "metadata": {},
     "output_type": "display_data"
    }
   ],
   "source": [
    "pack_widget = widgets.Dropdown(options = {l: w for (l, w) in t.items()})\n",
    "cmap_widget = widgets.Dropdown()\n",
    "\n",
    "def update(*args):\n",
    "    cmap_widget.options = {k: v for (k, v) in pack_widget.value.items()}\n",
    "pack_widget.observe(update)\n",
    "\n",
    "def contour_plot(pack,\n",
    "                 cmap):\n",
    "    plt.pcolormesh(some_data, cmap=cmap)\n",
    "    plt.colorbar()\n",
    "\n",
    "interact(contour_plot, pack=pack_widget, cmap=cmap_widget);"
   ]
  },
  {
   "cell_type": "code",
   "execution_count": null,
   "metadata": {},
   "outputs": [],
   "source": []
  }
 ],
 "metadata": {
  "kernelspec": {
   "display_name": "Python 3",
   "language": "python",
   "name": "python3"
  },
  "language_info": {
   "codemirror_mode": {
    "name": "ipython",
    "version": 3
   },
   "file_extension": ".py",
   "mimetype": "text/x-python",
   "name": "python",
   "nbconvert_exporter": "python",
   "pygments_lexer": "ipython3",
   "version": "3.7.8"
  }
 },
 "nbformat": 4,
 "nbformat_minor": 4
}
