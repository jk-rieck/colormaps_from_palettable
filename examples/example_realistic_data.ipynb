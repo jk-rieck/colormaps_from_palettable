{
 "cells": [
  {
   "cell_type": "code",
   "execution_count": 1,
   "metadata": {},
   "outputs": [],
   "source": [
    "import ipywidgets as widgets\n",
    "from ipywidgets import interact, interact_manual\n",
    "import numpy as np\n",
    "from matplotlib import pyplot as plt\n",
    "import xarray as xr"
   ]
  },
  {
   "cell_type": "code",
   "execution_count": 2,
   "metadata": {},
   "outputs": [
    {
     "name": "stdout",
     "output_type": "stream",
     "text": [
      "Collecting git+https://github.com/jk-rieck/colormaps_from_palettable.git\n",
      "  Cloning https://github.com/jk-rieck/colormaps_from_palettable.git to /tmp/pip-req-build-rdlwvaz5\n",
      "  Running command git clone -q https://github.com/jk-rieck/colormaps_from_palettable.git /tmp/pip-req-build-rdlwvaz5\n",
      "  Resolved https://github.com/jk-rieck/colormaps_from_palettable.git to commit aad9341d2ca8b1a6ade736ea72023287279382d4\n",
      "Requirement already satisfied: setuptools in /home/jan/miniconda3/envs/py39/lib/python3.9/site-packages (from colormaps-from-palettable==0.1) (58.0.4)\n",
      "Requirement already satisfied: palettable in /home/jan/miniconda3/envs/py39/lib/python3.9/site-packages (from colormaps-from-palettable==0.1) (3.3.0)\n"
     ]
    }
   ],
   "source": [
    "!pip install git+https://github.com/jk-rieck/colormaps_from_palettable.git\n",
    "import colormaps_from_palettable as cfp"
   ]
  },
  {
   "cell_type": "markdown",
   "metadata": {},
   "source": [
    "### First, need to get the dictionary containing the colormaps"
   ]
  },
  {
   "cell_type": "code",
   "execution_count": 3,
   "metadata": {},
   "outputs": [],
   "source": [
    "t = cfp.extract()"
   ]
  },
  {
   "cell_type": "markdown",
   "metadata": {},
   "source": [
    "### Now, we use the tutorial data from xarray for the plotting\n",
    "Here you could also just load your own data..."
   ]
  },
  {
   "cell_type": "code",
   "execution_count": 4,
   "metadata": {},
   "outputs": [],
   "source": [
    "some_data = xr.tutorial.load_dataset('ROMS_example').isel(ocean_time=0)"
   ]
  },
  {
   "cell_type": "markdown",
   "metadata": {},
   "source": [
    "## Display the colormaps\n",
    "You can choose the different packages and colormaps by choosing other entries in the dropdown menues for `pack` and `cmap`, respectively."
   ]
  },
  {
   "cell_type": "code",
   "execution_count": 5,
   "metadata": {},
   "outputs": [
    {
     "data": {
      "application/vnd.jupyter.widget-view+json": {
       "model_id": "d3c1c024473348a3be66b6c8845725be",
       "version_major": 2,
       "version_minor": 0
      },
      "text/plain": [
       "interactive(children=(Dropdown(description='pack', options={'cmocean': {'Algae_r': <matplotlib.colors.LinearSe…"
      ]
     },
     "metadata": {},
     "output_type": "display_data"
    }
   ],
   "source": [
    "pack_widget = widgets.Dropdown(options = {l: w for (l, w) in t.items()})\n",
    "cmap_widget = widgets.Dropdown()\n",
    "data_widget = widgets.Dropdown(value=\"salt\", options = {\"salt\", \"zeta\"})\n",
    "depth_widget = widgets.IntSlider(value=0, min=0, max=len(some_data.s_rho)-1, step=1)\n",
    "\n",
    "def update(*args):\n",
    "    cmap_widget.options = {k: v for (k, v) in pack_widget.value.items()}\n",
    "pack_widget.observe(update)\n",
    "\n",
    "def contour_plot(pack, cmap, data, z):\n",
    "    if data == \"salt\":\n",
    "        plt.pcolormesh(some_data[data].isel(s_rho=z), cmap=cmap)\n",
    "    elif data == \"zeta\":\n",
    "        plt.pcolormesh(some_data[data], cmap=cmap)\n",
    "    plt.colorbar()\n",
    "\n",
    "interact(contour_plot, pack=pack_widget, cmap=cmap_widget, data=data_widget, z=depth_widget);"
   ]
  },
  {
   "cell_type": "code",
   "execution_count": null,
   "metadata": {},
   "outputs": [],
   "source": []
  }
 ],
 "metadata": {
  "kernelspec": {
   "display_name": "Python [conda env:py39]",
   "language": "python",
   "name": "conda-env-py39-py"
  },
  "language_info": {
   "codemirror_mode": {
    "name": "ipython",
    "version": 3
   },
   "file_extension": ".py",
   "mimetype": "text/x-python",
   "name": "python",
   "nbconvert_exporter": "python",
   "pygments_lexer": "ipython3",
   "version": "3.9.7"
  }
 },
 "nbformat": 4,
 "nbformat_minor": 4
}
