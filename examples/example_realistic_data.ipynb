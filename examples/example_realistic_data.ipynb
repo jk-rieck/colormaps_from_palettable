{
 "cells": [
  {
   "cell_type": "code",
   "execution_count": null,
   "metadata": {},
   "outputs": [],
   "source": [
    "import ipywidgets as widgets\n",
    "from ipywidgets import interact, interact_manual\n",
    "import numpy as np\n",
    "from matplotlib import pyplot as plt\n",
    "import xarray as xr"
   ]
  },
  {
   "cell_type": "code",
   "execution_count": null,
   "metadata": {},
   "outputs": [],
   "source": [
    "!pip install git+https://github.com/jk-rieck/colormaps_from_palettable.git\n",
    "import colormaps_from_palettable as cfp"
   ]
  },
  {
   "cell_type": "markdown",
   "metadata": {},
   "source": [
    "### First, need to get the dictionary containing the colormaps"
   ]
  },
  {
   "cell_type": "code",
   "execution_count": null,
   "metadata": {},
   "outputs": [],
   "source": [
    "t = cfp.extract()"
   ]
  },
  {
   "cell_type": "markdown",
   "metadata": {},
   "source": [
    "### Now, we use the tutorial data from xarray for the plotting\n",
    "Here you could also just load your own data..."
   ]
  },
  {
   "cell_type": "code",
   "execution_count": null,
   "metadata": {},
   "outputs": [],
   "source": [
    "some_data = xr.tutorial.load_dataset('ROMS_example').isel(ocean_time=0)"
   ]
  },
  {
   "cell_type": "markdown",
   "metadata": {},
   "source": [
    "## Display the colormaps\n",
    "You can choose the different packages and colormaps by choosing other entries in the dropdown menues for `pack` and `cmap`, respectively."
   ]
  },
  {
   "cell_type": "code",
   "execution_count": null,
   "metadata": {},
   "outputs": [],
   "source": [
    "pack_widget = widgets.Dropdown(options = {l: w for (l, w) in t.items()})\n",
    "cmap_widget = widgets.Dropdown()\n",
    "data_widget = widgets.Dropdown(value=\"salt\", options = {\"salt\", \"zeta\"})\n",
    "depth_widget = widgets.IntSlider(value=0, min=0, max=len(some_data.s_rho)-1, step=1)\n",
    "\n",
    "def update(*args):\n",
    "    cmap_widget.options = {k: v for (k, v) in pack_widget.value.items()}\n",
    "pack_widget.observe(update)\n",
    "\n",
    "def contour_plot(pack, cmap, data, z):\n",
    "    if data == \"salt\":\n",
    "        plt.pcolormesh(some_data[data].isel(s_rho=z), cmap=cmap)\n",
    "    elif data == \"zeta\":\n",
    "        plt.pcolormesh(some_data[data], cmap=cmap)\n",
    "    plt.colorbar()\n",
    "    plt.show()\n",
    "\n",
    "interact(contour_plot, pack=pack_widget, cmap=cmap_widget, data=data_widget, z=depth_widget);"
   ]
  },
  {
   "cell_type": "code",
   "execution_count": null,
   "metadata": {},
   "outputs": [],
   "source": []
  }
 ],
 "metadata": {
  "kernelspec": {
   "display_name": "Python [conda env:eddytools]",
   "language": "python",
   "name": "conda-env-eddytools-py"
  },
  "language_info": {
   "codemirror_mode": {
    "name": "ipython",
    "version": 3
   },
   "file_extension": ".py",
   "mimetype": "text/x-python",
   "name": "python",
   "nbconvert_exporter": "python",
   "pygments_lexer": "ipython3",
   "version": "3.10.8"
  }
 },
 "nbformat": 4,
 "nbformat_minor": 4
}
